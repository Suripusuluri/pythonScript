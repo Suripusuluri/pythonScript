{
 "cells": [
  {
   "cell_type": "code",
   "execution_count": 43,
   "metadata": {},
   "outputs": [
    {
     "name": "stdout",
     "output_type": "stream",
     "text": [
      "<Response [200]>\n",
      "<Response [200]>\n",
      "<Response [200]>\n",
      "<Response [200]>\n",
      "<Response [200]>\n",
      "<Response [200]>\n",
      "<Response [200]>\n",
      "<Response [200]>\n",
      "<Response [200]>\n",
      "<Response [200]>\n"
     ]
    }
   ],
   "source": [
    "import csv\n",
    "import requests\n",
    "import json\n",
    "from requests.auth import HTTPBasicAuth\n",
    "API_ENDPOINT = 'https://psinterview.gladly.qa/api/v1/conversation-items'\n",
    "token = '2cnKHKRHAq7Z40EIX28euhjHK0h8cB6X'\n",
    "user = 'suripusuluri@gmail.com'\n",
    "with open('gladlyexercise.csv', 'r') as csv_file:\n",
    "   csv_reader = csv.reader(csv_file)\n",
    "   next(csv_reader)\n",
    "   for line in csv_reader:\n",
    "      data = {\"customer\": {\"emailAddress\":line[0]}, \"content\": {\"type\": \"CUSTOMER_ACTIVITY\",\"title\" : line[1], \"body\":line[2],\"activityType\": \"EMAIL\",\"sourceName\": \"Suri\"}}\n",
    "      response = requests.post(url = API_ENDPOINT,auth = HTTPBasicAuth(user, token), json = data)\n",
    "      print(response)\n",
    "  \n",
    "     \n",
    "    \n",
    "    "
   ]
  },
  {
   "cell_type": "code",
   "execution_count": null,
   "metadata": {},
   "outputs": [],
   "source": []
  }
 ],
 "metadata": {
  "kernelspec": {
   "display_name": "Python 3",
   "language": "python",
   "name": "python3"
  },
  "language_info": {
   "codemirror_mode": {
    "name": "ipython",
    "version": 3
   },
   "file_extension": ".py",
   "mimetype": "text/x-python",
   "name": "python",
   "nbconvert_exporter": "python",
   "pygments_lexer": "ipython3",
   "version": "3.7.6"
  }
 },
 "nbformat": 4,
 "nbformat_minor": 4
}
